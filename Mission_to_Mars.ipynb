{
 "cells": [
  {
   "cell_type": "markdown",
   "metadata": {},
   "source": [
    "# Mission to Mars - Web Scraping"
   ]
  },
  {
   "cell_type": "code",
   "execution_count": 24,
   "metadata": {},
   "outputs": [],
   "source": [
    "# Import Splinter and BeautifulSoup\n",
    "from splinter import Browser\n",
    "from bs4 import BeautifulSoup as soup\n",
    "import pandas as pd"
   ]
  },
  {
   "cell_type": "code",
   "execution_count": 25,
   "metadata": {},
   "outputs": [],
   "source": [
    "# Set the executable path and initialize the chrome browser in SPLINTER\n",
    "executable_path = {'executable_path': 'chromedriver'}\n",
    "browser = Browser('chrome', **executable_path)"
   ]
  },
  {
   "cell_type": "code",
   "execution_count": 26,
   "metadata": {},
   "outputs": [
    {
     "output_type": "execute_result",
     "data": {
      "text/plain": "True"
     },
     "metadata": {},
     "execution_count": 26
    }
   ],
   "source": [
    "# Visit the mars nasa news site\n",
    "url = 'https://mars.nasa.gov/news/'\n",
    "browser.visit(url)\n",
    "\n",
    "# Search for elements with a specific combination of tag (ul and li) and attribute (item_list and slide, respectively). \n",
    "# Tell browser to wait one second before searching for components. The optional delay is useful because sometimes dynamic pages take a little while to load, especially if they are image-heavy.\n",
    "# Optional delay for loading the page\n",
    "browser.is_element_present_by_css(\"ul.item_list li.slide\", wait_time=1)"
   ]
  },
  {
   "cell_type": "code",
   "execution_count": 4,
   "metadata": {},
   "outputs": [],
   "source": [
    "html = browser.html\n",
    "news_soup = BeautifulSoup(html, 'html.parser')\n",
    "# Get our parent element\n",
    "#  . is used for selecting classes, such as item_list, so 'ul.item_list li.slide' pinpoints the <li /> tag with the class of slide \n",
    "# and the <ul /> tag with a class of item_list. \n",
    "# CSS works from right to left, such as returning the last item on the list instead of the first\n",
    "# Because of this, when using select_one, the first matching element returned will be a <li /> element with a class of slide and all nested elements within it\n",
    "slide_elem = news_soup.select_one('ul.item_list li.slide')"
   ]
  },
  {
   "cell_type": "code",
   "execution_count": 5,
   "metadata": {},
   "outputs": [
    {
     "output_type": "execute_result",
     "data": {
      "text/plain": "<div class=\"content_title\"><a href=\"/news/8724/nasa-ula-launch-mars-2020-perseverance-rover-mission-to-red-planet/\" target=\"_self\">NASA, ULA Launch Mars 2020 Perseverance Rover Mission to Red Planet</a></div>"
     },
     "metadata": {},
     "execution_count": 5
    }
   ],
   "source": [
    "# IMPORTANT\n",
    "# There are two methods used to find tags and attributes with BeautifulSoup:\n",
    "# .find() is used when we want only the first class and attribute we’ve specified.\n",
    "# .find_all() is used when we want to retrieve all of the tags and attributes.\n",
    "slide_elem.find(\"div\", class_='content_title')"
   ]
  },
  {
   "cell_type": "code",
   "execution_count": 6,
   "metadata": {},
   "outputs": [
    {
     "output_type": "execute_result",
     "data": {
      "text/plain": "'NASA, ULA Launch Mars 2020 Perseverance Rover Mission to Red Planet'"
     },
     "metadata": {},
     "execution_count": 6
    }
   ],
   "source": [
    "# Use the parent element to find the first `a` tag and save it as `news_title`\n",
    "news_title = slide_elem.find(\"div\", class_='content_title').get_text()\n",
    "news_title"
   ]
  },
  {
   "cell_type": "code",
   "execution_count": 7,
   "metadata": {},
   "outputs": [
    {
     "output_type": "execute_result",
     "data": {
      "text/plain": "<div class=\"article_teaser_body\">The agency's Mars 2020 mission is on its way. It will land at Jezero Crater in about seven months, on Feb. 18, 2021. </div>"
     },
     "metadata": {},
     "execution_count": 7
    }
   ],
   "source": [
    "slide_elem.find(\"div\", class_='article_teaser_body')"
   ]
  },
  {
   "cell_type": "code",
   "execution_count": 8,
   "metadata": {},
   "outputs": [
    {
     "output_type": "execute_result",
     "data": {
      "text/plain": "\"The agency's Mars 2020 mission is on its way. It will land at Jezero Crater in about seven months, on Feb. 18, 2021. \""
     },
     "metadata": {},
     "execution_count": 8
    }
   ],
   "source": [
    "news_summary = slide_elem.find(\"div\", class_='article_teaser_body').get_text()\n",
    "news_summary"
   ]
  },
  {
   "cell_type": "markdown",
   "metadata": {},
   "source": [
    "### Featured Images"
   ]
  },
  {
   "cell_type": "code",
   "execution_count": 9,
   "metadata": {},
   "outputs": [],
   "source": [
    "# Visit URL\n",
    "url = 'https://www.jpl.nasa.gov/spaceimages/?search=&category=Mars'\n",
    "browser.visit(url)"
   ]
  },
  {
   "cell_type": "code",
   "execution_count": 10,
   "metadata": {},
   "outputs": [],
   "source": [
    "# id=“full_image”, in HTML an id is a completely unique identifier\n",
    "# Find and click the full image button\n",
    "full_image_elem = browser.find_by_id('full_image')\n",
    "full_image_elem.click()"
   ]
  },
  {
   "cell_type": "code",
   "execution_count": 11,
   "metadata": {},
   "outputs": [],
   "source": [
    "# Find the more info button and click that\n",
    "browser.is_element_present_by_text('more info', wait_time=1)\n",
    "more_info_elem = browser.links.find_by_partial_text('more info')\n",
    "more_info_elem.click()"
   ]
  },
  {
   "cell_type": "code",
   "execution_count": 14,
   "metadata": {
    "tags": [
     "outputPrepend"
    ]
   },
   "outputs": [
    {
     "output_type": "stream",
     "name": "stdout",
     "text": ".placeholder = ''\" placeholder=\"enter email address\" type=\"email\" value=\"\"/>\n<input class=\"email_submit\" type=\"submit\" value=\"\"/>\n</form>\n</div>\n<div class=\"gradient_line_divider\"></div>\n<div class=\"share\">\n<h2>Follow JPL</h2>\n<div class=\"social_icons\">\n<!-- AddThis Button BEGIN -->\n<div class=\"addthis_toolbox addthis_default_style addthis_32x32_style\">\n<a addthis:userid=\"NASAJPL\" class=\"addthis_button_facebook_follow icon at300b\" href=\"http://www.facebook.com/NASAJPL\" target=\"_blank\" title=\"Follow on Facebook\"><span class=\"at-icon-wrapper\" style=\"background-color: rgb(59, 89, 152); line-height: 32px; height: 32px; width: 32px;\"><svg alt=\"Facebook\" aria-labelledby=\"at-svg-facebook-5\" class=\"at-icon at-icon-facebook\" role=\"img\" style=\"width: 32px; height: 32px;\" title=\"Facebook\" version=\"1.1\" viewbox=\"0 0 32 32\" xmlns=\"http://www.w3.org/2000/svg\" xmlns:xlink=\"http://www.w3.org/1999/xlink\"><title id=\"at-svg-facebook-5\">Facebook</title><g><path d=\"M22 5.16c-.406-.054-1.806-.16-3.43-.16-3.4 0-5.733 1.825-5.733 5.17v2.882H9v3.913h3.837V27h4.604V16.965h3.823l.587-3.913h-4.41v-2.5c0-1.123.347-1.903 2.198-1.903H22V5.16z\" fill-rule=\"evenodd\"></path></g></svg></span><span class=\"addthis_follow_label\">Facebook</span></a>\n<a addthis:userid=\"NASAJPL\" class=\"addthis_button_twitter_follow icon at300b\" href=\"//twitter.com/NASAJPL\" target=\"_blank\" title=\"Follow on Twitter\"><span class=\"at-icon-wrapper\" style=\"background-color: rgb(29, 161, 242); line-height: 32px; height: 32px; width: 32px;\"><svg alt=\"Twitter\" aria-labelledby=\"at-svg-twitter-6\" class=\"at-icon at-icon-twitter\" role=\"img\" style=\"width: 32px; height: 32px;\" title=\"Twitter\" version=\"1.1\" viewbox=\"0 0 32 32\" xmlns=\"http://www.w3.org/2000/svg\" xmlns:xlink=\"http://www.w3.org/1999/xlink\"><title id=\"at-svg-twitter-6\">Twitter</title><g><path d=\"M27.996 10.116c-.81.36-1.68.602-2.592.71a4.526 4.526 0 0 0 1.984-2.496 9.037 9.037 0 0 1-2.866 1.095 4.513 4.513 0 0 0-7.69 4.116 12.81 12.81 0 0 1-9.3-4.715 4.49 4.49 0 0 0-.612 2.27 4.51 4.51 0 0 0 2.008 3.755 4.495 4.495 0 0 1-2.044-.564v.057a4.515 4.515 0 0 0 3.62 4.425 4.52 4.52 0 0 1-2.04.077 4.517 4.517 0 0 0 4.217 3.134 9.055 9.055 0 0 1-5.604 1.93A9.18 9.18 0 0 1 6 23.85a12.773 12.773 0 0 0 6.918 2.027c8.3 0 12.84-6.876 12.84-12.84 0-.195-.005-.39-.014-.583a9.172 9.172 0 0 0 2.252-2.336\" fill-rule=\"evenodd\"></path></g></svg></span><span class=\"addthis_follow_label\">Twitter</span></a>\n<a addthis:userid=\"JPLnews\" class=\"addthis_button_youtube_follow icon at300b\" href=\"http://www.youtube.com/user/JPLnews?sub_confirmation=1\" target=\"_blank\" title=\"Follow on YouTube\"><span class=\"at-icon-wrapper\" style=\"background-color: rgb(205, 32, 31); line-height: 32px; height: 32px; width: 32px;\"><svg alt=\"YouTube\" aria-labelledby=\"at-svg-youtube-7\" class=\"at-icon at-icon-youtube\" role=\"img\" style=\"width: 32px; height: 32px;\" title=\"YouTube\" version=\"1.1\" viewbox=\"0 0 32 32\" xmlns=\"http://www.w3.org/2000/svg\" xmlns:xlink=\"http://www.w3.org/1999/xlink\"><title id=\"at-svg-youtube-7\">YouTube</title><g><path d=\"M13.73 18.974V12.57l5.945 3.212-5.944 3.192zm12.18-9.778c-.837-.908-1.775-.912-2.205-.965C20.625 8 16.007 8 16.007 8c-.01 0-4.628 0-7.708.23-.43.054-1.368.058-2.205.966-.66.692-.875 2.263-.875 2.263S5 13.303 5 15.15v1.728c0 1.845.22 3.69.22 3.69s.215 1.57.875 2.262c.837.908 1.936.88 2.426.975 1.76.175 7.482.23 7.482.15 0 .08 4.624.072 7.703-.16.43-.052 1.368-.057 2.205-.965.66-.69.875-2.262.875-2.262s.22-1.845.22-3.69v-1.73c0-1.844-.22-3.69-.22-3.69s-.215-1.57-.875-2.262z\" fill-rule=\"evenodd\"></path></g></svg></span><span class=\"addthis_follow_label\">YouTube</span></a>\n<a addthis:userid=\"nasajpl\" class=\"addthis_button_instagram_follow icon at300b\" href=\"http://instagram.com/nasajpl\" target=\"_blank\" title=\"Follow on Instagram\"><span class=\"at-icon-wrapper\" style=\"background-color: rgb(224, 53, 102); line-height: 32px; height: 32px; width: 32px;\"><svg alt=\"Instagram\" aria-labelledby=\"at-svg-instagram-8\" class=\"at-icon at-icon-instagram\" role=\"img\" style=\"width: 32px; height: 32px;\" title=\"Instagram\" version=\"1.1\" viewbox=\"0 0 32 32\" xmlns=\"http://www.w3.org/2000/svg\" xmlns:xlink=\"http://www.w3.org/1999/xlink\"><title id=\"at-svg-instagram-8\">Instagram</title><g><path d=\"M16 5c-2.987 0-3.362.013-4.535.066-1.17.054-1.97.24-2.67.512a5.392 5.392 0 0 0-1.95 1.268 5.392 5.392 0 0 0-1.267 1.95c-.272.698-.458 1.498-.512 2.67C5.013 12.637 5 13.012 5 16s.013 3.362.066 4.535c.054 1.17.24 1.97.512 2.67.28.724.657 1.337 1.268 1.95a5.392 5.392 0 0 0 1.95 1.268c.698.27 1.498.457 2.67.51 1.172.054 1.547.067 4.534.067s3.362-.013 4.535-.066c1.17-.054 1.97-.24 2.67-.51a5.392 5.392 0 0 0 1.95-1.27 5.392 5.392 0 0 0 1.268-1.95c.27-.698.457-1.498.51-2.67.054-1.172.067-1.547.067-4.534s-.013-3.362-.066-4.535c-.054-1.17-.24-1.97-.51-2.67a5.392 5.392 0 0 0-1.27-1.95 5.392 5.392 0 0 0-1.95-1.267c-.698-.272-1.498-.458-2.67-.512C19.363 5.013 18.988 5 16 5zm0 1.982c2.937 0 3.285.01 4.445.064 1.072.05 1.655.228 2.042.38.514.198.88.437 1.265.822.385.385.624.75.823 1.265.15.387.33.97.38 2.042.052 1.16.063 1.508.063 4.445 0 2.937-.01 3.285-.064 4.445-.05 1.072-.228 1.655-.38 2.042-.198.514-.437.88-.822 1.265-.385.385-.75.624-1.265.823-.387.15-.97.33-2.042.38-1.16.052-1.508.063-4.445.063-2.937 0-3.285-.01-4.445-.064-1.072-.05-1.655-.228-2.042-.38-.514-.198-.88-.437-1.265-.822a3.408 3.408 0 0 1-.823-1.265c-.15-.387-.33-.97-.38-2.042-.052-1.16-.063-1.508-.063-4.445 0-2.937.01-3.285.064-4.445.05-1.072.228-1.655.38-2.042.198-.514.437-.88.822-1.265.385-.385.75-.624 1.265-.823.387-.15.97-.33 2.042-.38 1.16-.052 1.508-.063 4.445-.063zm0 12.685a3.667 3.667 0 1 1 0-7.334 3.667 3.667 0 0 1 0 7.334zm0-9.316a5.65 5.65 0 1 0 0 11.3 5.65 5.65 0 0 0 0-11.3zm7.192-.222a1.32 1.32 0 1 1-2.64 0 1.32 1.32 0 0 1 2.64 0\" fill-rule=\"evenodd\"></path></g></svg></span><span class=\"addthis_follow_label\">Instagram</span></a>\n<a class=\"icon all_icon\" href=\"/social\">\n<span>All</span>\n</a>\n<div class=\"atclear\"></div></div>\n<script>\n                    addthis_loader.init(\"//s7.addthis.com/js/300/addthis_widget.js#pubid=ra-5429eeee4e460927\", {follow: true})\n                  </script>\n</div>\n</div>\n</div>\n<div class=\"gradient_line\"></div>\n</section>\n<section class=\"sitemap\">\n<div class=\"grid_layout\">\n<div class=\"sitemap_directory\">\n<div class=\"sitemap_block\">\n<div class=\"footer_sitemap_item\">\n<h3 class=\"sitemap_title\">\n                      about JPL\n                    </h3>\n<ul class=\"subnav\">\n<li>\n<a href=\"/about/\">About JPL</a>\n</li>\n<li>\n<a href=\"https://www.jpl.nasa.gov/jpl2025/vision/\">JPL Vision</a>\n</li>\n<li>\n<a href=\"/about/exec.php\">Executive Council</a>\n</li>\n<li>\n<a href=\"/about/history.php\">History</a>\n</li>\n<li>\n<a href=\"/about/reports.php\">Annual Reports</a>\n</li>\n<li>\n<a href=\"/contact_JPL.php\">Contact Us</a>\n</li>\n<li>\n<a href=\"/opportunities/\">Opportunities</a>\n</li>\n<li>\n<a href=\"https://thejplstore.com\" target=\"_blank\">JPL Online Store</a>\n</li>\n<li>\n<a href=\"/acquisition/\">Doing Business with JPL</a>\n</li>\n</ul>\n</div>\n<div class=\"footer_sitemap_item\">\n<h3 class=\"sitemap_title\">\n                      missions\n                    </h3>\n<ul class=\"subnav\">\n<li>\n<a href=\"/missions/?type=current\">Current</a>\n</li>\n<li>\n<a href=\"/missions/?type=past\">Past</a>\n</li>\n<li>\n<a href=\"/missions/?type=future\">Future</a>\n</li>\n<li>\n<a href=\"/missions/?type=proposed\">Proposed</a>\n</li>\n<li>\n<a href=\"/missions\">All</a>\n</li>\n</ul>\n</div>\n</div>\n<div class=\"sitemap_block\">\n<div class=\"footer_sitemap_item\">\n<h3 class=\"sitemap_title\">\n                      education\n                    </h3>\n<ul class=\"subnav\">\n<li>\n<a href=\"/edu/intern/\">Intern</a>\n</li>\n<li>\n<a href=\"/edu/learn/\">Learn</a>\n</li>\n<li>\n<a href=\"/edu/teach/\">Teach</a>\n</li>\n<li>\n<a href=\"/edu/news/\">News</a>\n</li>\n<li>\n<a href=\"/edu/events/\">Events</a>\n</li>\n</ul>\n</div>\n<div class=\"footer_sitemap_item\">\n<h3 class=\"sitemap_title\">\n                      news\n                    </h3>\n<ul class=\"subnav\">\n<li>\n<a href=\"/news\">Latest News</a>\n</li>\n<li>\n<a href=\"/news/presskits.php\">Press Kits</a>\n</li>\n<li>\n<a href=\"/news/factsheets.php\">Fact Sheets</a>\n</li>\n<li>\n<a href=\"/news/mediainformation.php\">Media Information</a>\n</li>\n<li>\n<a href=\"/universe/\">Universe Newspaper</a>\n</li>\n</ul>\n</div>\n<div class=\"footer_sitemap_item\">\n<h3 class=\"sitemap_title\">\n                      public events</h3>\n<ul class=\"subnav\">\n<li>\n<a href=\"/events/\">Overview</a>\n</li>\n<li>\n<a href=\"/events/tours/views/\">Tours</a>\n</li>\n<li>\n<a href=\"/events/lectures.php\">Lecture Series</a>\n</li>\n<li>\n<a href=\"/events/speakers-bureau.php\">Speakers Bureau</a>\n</li>\n<li>\n<a href=\"/events/team-competitions.php\">Team Competitions</a>\n</li>\n<li>\n<a href=\"/events/special-events.php\">Special Events</a>\n</li>\n</ul>\n</div>\n</div>\n<div class=\"sitemap_block\">\n<div class=\"footer_sitemap_item\">\n<h3 class=\"sitemap_title\">\n                      Our Sites\n                    </h3>\n<ul class=\"subnav\">\n<li>\n<a href=\"/asteroidwatch/\">Asteroid Watch</a>\n</li>\n<li>\n<a href=\"https://solarsystem.nasa.gov/basics/\" target=\"_blank\">Basics of Spaceflight\n                      </a></li><a href=\"https://solarsystem.nasa.gov/basics/\" target=\"_blank\">\n</a><li><a href=\"https://solarsystem.nasa.gov/basics/\" target=\"_blank\">\n</a><a href=\"https://saturn.jpl.nasa.gov/index.cfm\">Cassini - Mission to Saturn</a>\n</li>\n<li>\n<a href=\"https://climatekids.nasa.gov/index.cfm\">Climate Kids</a>\n</li>\n<li>\n<a href=\"https://climate.nasa.gov\">Earth / Global Climate Change</a>\n</li>\n<li>\n<a href=\"https://planetquest.jpl.nasa.gov\">Exoplanet Exploration</a>\n</li>\n<li>\n<a href=\"/missions/juno/\">Juno - Mission to Jupiter</a>\n</li>\n<li>\n<a href=\"https://mars.nasa.gov/\">Mars Exploration</a>\n</li>\n<li>\n<a href=\"https://scienceandtechnology.jpl.nasa.gov/\">Science and Technology</a>\n</li>\n<li>\n<a href=\"https://solarsystem.nasa.gov/\">Solar System Exploration</a>\n</li>\n<li>\n<a href=\"https://spaceplace.nasa.gov/\">Space Place</a>\n</li>\n<li>\n<a href=\"https://eyes.nasa.gov/\">NASA's Eyes</a>\n</li>\n<li>\n<a href=\"https://www.spitzer.caltech.edu/\">Spitzer Space Telescope</a>\n</li>\n<li>\n<a href=\"https://voyager.jpl.nasa.gov/\">Voyager Interstellar Mission</a>\n</li>\n</ul>\n</div>\n<div class=\"footer_sitemap_item\">\n<h3 class=\"sitemap_title\">\n                      galleries\n                    </h3>\n<ul class=\"subnav\">\n<li>\n<a href=\"/spaceimages/\">JPL Space Images</a>\n</li>\n<li>\n<a href=\"/video/\">Videos</a>\n</li>\n<li>\n<a href=\"/infographics/\">Infographics</a>\n</li>\n<li>\n<a href=\"https://photojournal.jpl.nasa.gov/\">Photojournal</a>\n</li>\n<li>\n<a href=\"http://www.nasaimages.org/\">NASA Images</a>\n</li>\n<li>\n<a href=\"/apps/\">Mobile Apps</a>\n</li>\n</ul>\n</div>\n</div>\n<div class=\"sitemap_block\">\n<div class=\"footer_sitemap_item\">\n<h3 class=\"sitemap_title\">\n                      Follow JPL\n                    </h3>\n<ul class=\"subnav\">\n<li>\n<a href=\"/signup/\">Newsletter</a>\n</li>\n<li>\n<a href=\"https://www.facebook.com/NASAJPL\">Facebook</a>\n</li>\n<li>\n<a href=\"http://twitter.com/NASAJPL\">Twitter</a>\n</li>\n<li>\n<a href=\"http://www.youtube.com/user/JPLnews\">YouTube</a>\n</li>\n<li>\n<a href=\"http://www.flickr.com/photos/nasa-jpl\">Flickr</a>\n</li>\n<li>\n<a href=\"http://instagram.com/nasajpl\">Instagram</a>\n</li>\n<li>\n<a href=\"https://www.linkedin.com/company/2004/\">LinkedIn</a>\n</li>\n<li>\n<a href=\"http://itunes.apple.com/podcast/hd-nasas-jet-propulsion-laboratory/id262254981\">iTunes</a>\n</li>\n<li>\n<a href=\"http://www.ustream.tv/nasajpl\">UStream</a>\n</li>\n<li>\n<a href=\"/rss/\">RSS</a>\n</li>\n<li>\n<a href=\"http://blogs.jpl.nasa.gov\">Blog</a>\n</li>\n<li>\n<a href=\"/onthego/\">Mobile</a>\n</li>\n<li>\n<a href=\"/social/\">All Social Media</a>\n</li>\n</ul>\n</div>\n<div class=\"footer_sitemap_item\">\n<h3 class=\"sitemap_title\">\n                      NASA\n                    </h3>\n<ul class=\"subnav\">\n<li>\n<a href=\"http://jplwater.nasa.gov\">NASA Water Cleanup</a>\n</li>\n<li>\n<a href=\"http://www.hq.nasa.gov/office/pao/FOIA/agency/\">FOIA</a>\n</li>\n</ul>\n</div>\n</div>\n</div>\n</div>\n<div class=\"gradient_line\"></div>\n</section>\n<section class=\"lower_footer\">\n<div class=\"nav_container\">\n<nav>\n<ul>\n<li>\n<a href=\"http://www.nasa.gov/\" target=\"_blank\">NASA</a>\n</li>\n                  |\n                  <li>\n<a href=\"http://www.caltech.edu/\" target=\"_blank\">Caltech</a>\n</li>\n                  |\n                  <li>\n<a href=\"/privacy\">Privacy</a>\n</li>\n                  |\n                  <li>\n<a href=\"/imagepolicy\">Image Policy</a>\n</li>\n                  |\n                  <li>\n<a href=\"/faq.php\">FAQ</a>\n</li>\n                  |\n                  <li>\n<a href=\"/contact_JPL.php\">Feedback</a>\n</li>\n</ul>\n</nav>\n</div>\n<div class=\"credits\">\n<span class=\"credits_manager\">Site Manager: Veronica McGregor</span>\n<span class=\"credits_webmaster\">Site Editors: Tony Greicius, Randal Jackson, Naomi Hartono</span>\n</div>\n</section>\n</footer>\n</div>\n</div>\n<script src=\"/assets/javascripts/vendor/prefixfree.js\" type=\"text/javascript\"></script><script src=\"/assets/javascripts/vendor/prefixfree.jquery.js\" type=\"text/javascript\"></script><script id=\"_fed_an_ua_tag\" src=\"https://dap.digitalgov.gov/Universal-Federated-Analytics-Min.js?agency=NASA&amp;pua=UA-45212297-1&amp;subagency=JPL&amp;dclink=true&amp;sp=search,s,q&amp;sdor=false&amp;exts=tif,tiff\" type=\"text/javascript\"></script>\n<script type=\"text/javascript\">\nsetTimeout(function(){var a=document.createElement(\"script\");\nvar b=document.getElementsByTagName(\"script\")[0];\na.src=document.location.protocol+\"//script.crazyegg.com/pages/scripts/0025/5267.js?\"+Math.floor(new Date().getTime()/3600000);\na.async=true;a.type=\"text/javascript\";b.parentNode.insertBefore(a,b)}, 1);\n</script>\n<!-- END FOOTER: \"DEFAULT\" -->\n<div id=\"_atssh\" style=\"visibility: hidden; height: 1px; width: 1px; position: absolute; top: -9999px; z-index: 100000;\"><iframe id=\"_atssh160\" src=\"https://s7.addthis.com/static/sh.f48a1a04fe8dbf021b4cda1d.html#rand=0.5388237044980775&amp;iit=1596219770822&amp;tmr=load%3D1596219770678%26core%3D1596219770720%26main%3D1596219770819%26ifr%3D1596219770825&amp;cb=0&amp;cdn=0&amp;md=0&amp;kw=&amp;ab=-&amp;dh=www.jpl.nasa.gov&amp;dr=https%3A%2F%2Fwww.jpl.nasa.gov%2Fspaceimages%2F%3Fsearch%3D%26category%3DMars&amp;du=https%3A%2F%2Fwww.jpl.nasa.gov%2Fspaceimages%2Fdetails.php%3Fid%3DPIA16153&amp;href=https%3A%2F%2Fwww.jpl.nasa.gov%2Fspaceimages%2Fdetails.php&amp;dt=Curiosity%20Traverse%20Map%20Through%20Sol%2043&amp;dbg=0&amp;cap=tc%3D0%26ab%3D0&amp;inst=1&amp;jsl=1&amp;prod=undefined&amp;lng=en&amp;ogt=description%2Ctitle%2Curl%2Cimage&amp;pc=men&amp;pub=&amp;ssl=1&amp;sid=5f24617ad0d6f5bb&amp;srf=0.01&amp;ver=300&amp;xck=1&amp;xtr=0&amp;og=image%3Dhttps%253A%252F%252Fwww.jpl.nasa.gov%252Fspaceimages%252Fimages%252Fmediumsize%252FPIA16153_ip.jpg%26url%3Dhttps%253A%252F%252Fwww.jpl.nasa.gov%252Fspaceimages%252Fdetails.php%253Fid%253DPIA16153%26title%3DCuriosity%2520Traverse%2520Map%2520Through%2520Sol%252043%26description%3DThis%2520map%2520shows%2520the%2520route%2520driven%2520by%2520NASA's%2520Mars%2520rover%2520Curiosity%2520through%2520the%252043rd%2520Martian%2520day%252C%2520or%2520sol%252C%2520of%2520the%2520rover's%2520mission%2520on%2520Mars%2520(Sept.%252019%252C%25202012).%2520The%2520route%2520starts%2520where%2520the%2520rover%2520touched%2520down%252C%2520a%2520site%2520subsequently%2520named%2520Bradbury%2520Landing.&amp;csi=undefined&amp;rev=v8.28.7-wp&amp;ct=1&amp;xld=1&amp;xd=1\" style=\"height: 1px; width: 1px; position: absolute; top: 0px; z-index: 100000; border: 0px; left: 0px;\" title=\"AddThis utility frame\"></iframe></div><style id=\"service-icons-0\"></style><div aria-labelledby=\"at4-share-label\" class=\"addthis-smartlayers addthis-smartlayers-desktop\" role=\"region\"><div id=\"at4-share-label\">AddThis Sharing Sidebar</div><div class=\"at4-share addthis_32x32_style atss atss-left addthis-animated slideInLeft\" id=\"at4-share\"><a class=\"at-share-btn at-svc-twitter\" role=\"button\" tabindex=\"0\"><span class=\"at4-visually-hidden\">Share to Twitter</span><span class=\"at-icon-wrapper\" style=\"background-color: rgb(29, 161, 242);\"><svg aria-labelledby=\"at-svg-twitter-9\" class=\"at-icon at-icon-twitter\" role=\"img\" version=\"1.1\" viewbox=\"0 0 32 32\" xmlns=\"http://www.w3.org/2000/svg\" xmlns:xlink=\"http://www.w3.org/1999/xlink\"><title id=\"at-svg-twitter-9\">Twitter</title><g><path d=\"M27.996 10.116c-.81.36-1.68.602-2.592.71a4.526 4.526 0 0 0 1.984-2.496 9.037 9.037 0 0 1-2.866 1.095 4.513 4.513 0 0 0-7.69 4.116 12.81 12.81 0 0 1-9.3-4.715 4.49 4.49 0 0 0-.612 2.27 4.51 4.51 0 0 0 2.008 3.755 4.495 4.495 0 0 1-2.044-.564v.057a4.515 4.515 0 0 0 3.62 4.425 4.52 4.52 0 0 1-2.04.077 4.517 4.517 0 0 0 4.217 3.134 9.055 9.055 0 0 1-5.604 1.93A9.18 9.18 0 0 1 6 23.85a12.773 12.773 0 0 0 6.918 2.027c8.3 0 12.84-6.876 12.84-12.84 0-.195-.005-.39-.014-.583a9.172 9.172 0 0 0 2.252-2.336\" fill-rule=\"evenodd\"></path></g></svg></span></a><a class=\"at-share-btn at-svc-facebook\" role=\"button\" tabindex=\"0\"><span class=\"at4-visually-hidden\">Share to Facebook</span><span class=\"at-icon-wrapper\" style=\"background-color: rgb(59, 89, 152);\"><svg aria-labelledby=\"at-svg-facebook-10\" class=\"at-icon at-icon-facebook\" role=\"img\" version=\"1.1\" viewbox=\"0 0 32 32\" xmlns=\"http://www.w3.org/2000/svg\" xmlns:xlink=\"http://www.w3.org/1999/xlink\"><title id=\"at-svg-facebook-10\">Facebook</title><g><path d=\"M22 5.16c-.406-.054-1.806-.16-3.43-.16-3.4 0-5.733 1.825-5.733 5.17v2.882H9v3.913h3.837V27h4.604V16.965h3.823l.587-3.913h-4.41v-2.5c0-1.123.347-1.903 2.198-1.903H22V5.16z\" fill-rule=\"evenodd\"></path></g></svg></span></a><a class=\"at-share-btn at-svc-email\" role=\"button\" tabindex=\"0\"><span class=\"at4-visually-hidden\">Share to Email</span><span class=\"at-icon-wrapper\" style=\"background-color: rgb(132, 132, 132);\"><svg aria-labelledby=\"at-svg-email-11\" class=\"at-icon at-icon-email\" role=\"img\" version=\"1.1\" viewbox=\"0 0 32 32\" xmlns=\"http://www.w3.org/2000/svg\" xmlns:xlink=\"http://www.w3.org/1999/xlink\"><title id=\"at-svg-email-11\">Email</title><g><g fill-rule=\"evenodd\"></g><path d=\"M27 22.757c0 1.24-.988 2.243-2.19 2.243H7.19C5.98 25 5 23.994 5 22.757V13.67c0-.556.39-.773.855-.496l8.78 5.238c.782.467 1.95.467 2.73 0l8.78-5.238c.472-.28.855-.063.855.495v9.087z\"></path><path d=\"M27 9.243C27 8.006 26.02 7 24.81 7H7.19C5.988 7 5 8.004 5 9.243v.465c0 .554.385 1.232.857 1.514l9.61 5.733c.267.16.8.16 1.067 0l9.61-5.733c.473-.283.856-.96.856-1.514v-.465z\"></path></g></svg></span></a><a class=\"at-share-btn at-svc-compact\" role=\"button\" tabindex=\"0\"><span class=\"at4-visually-hidden\">More AddThis Share options</span><span class=\"at-icon-wrapper\" style=\"background-color: rgb(255, 101, 80);\"><svg aria-labelledby=\"at-svg-addthis-12\" class=\"at-icon at-icon-addthis\" role=\"img\" version=\"1.1\" viewbox=\"0 0 32 32\" xmlns=\"http://www.w3.org/2000/svg\" xmlns:xlink=\"http://www.w3.org/1999/xlink\"><title id=\"at-svg-addthis-12\">AddThis</title><g><path d=\"M18 14V8h-4v6H8v4h6v6h4v-6h6v-4h-6z\" fill-rule=\"evenodd\"></path></g></svg></span></a><div class=\"at-share-close-control ats-transparent at4-hide-content at4-show\" id=\"at4-scc\" title=\"Hide\"><div class=\"at4-arrow at-left\">Hide</div></div></div><div class=\"at-share-open-control at-share-open-control-left ats-transparent at4-hide\" id=\"at4-soc\" title=\"Show\"><div class=\"at4-arrow at-right\">Show</div></div></div><div aria-labelledby=\"at-thankyou-label\" class=\"at4-thankyou at4-thankyou-background at4-hide ats-transparent at4-thankyou-desktop addthis-smartlayers addthis-animated fadeIn at4-show\" id=\"at4-thankyou\" role=\"dialog\"><div class=\"at4lb-inner\"><button class=\"at4x\" title=\"Close\">Close</button><a id=\"at4-palogo\"><div><a class=\"at-branding-logo\" href=\"https://www.addthis.com/website-tools/overview?utm_source=AddThis%20Tools&amp;utm_medium=image\" target=\"_blank\" title=\"Powered by AddThis\"><div class=\"at-branding-icon\"></div><span class=\"at-branding-addthis\">AddThis</span></a></div></a><div class=\"at4-thankyou-inner\"><div class=\"thankyou-title\" id=\"at-thankyou-label\"></div><div class=\"thankyou-description\"></div><div class=\"at4-thankyou-layer\"></div></div></div></div></body></html>\n"
    }
   ],
   "source": [
    "# Parse the resulting html with soup\n",
    "html = browser.html\n",
    "img_soup = soup(html, 'html.parser')\n",
    "print(img_soup)"
   ]
  },
  {
   "cell_type": "code",
   "execution_count": 15,
   "metadata": {},
   "outputs": [
    {
     "output_type": "execute_result",
     "data": {
      "text/plain": "'/spaceimages/images/largesize/PIA16153_hires.jpg'"
     },
     "metadata": {},
     "execution_count": 15
    }
   ],
   "source": [
    "# Find the relative image url\n",
    "# figure.lede references the <figure /> tag and its class, lede\n",
    "# a is the next tag nested inside the <figure /> tag\n",
    "# An img tag is also nested within this HTML, so we’ve included that as well\n",
    "# .get(\"src\") pulls the link to the image.\n",
    "img_url_rel = img_soup.select_one('figure.lede a img').get(\"src\")\n",
    "img_url_rel"
   ]
  },
  {
   "cell_type": "code",
   "execution_count": 16,
   "metadata": {
    "tags": []
   },
   "outputs": [
    {
     "output_type": "stream",
     "name": "stdout",
     "text": "https://www.jpl.nasa.gov/spaceimages/images/largesize/PIA16153_hires.jpg,   /spaceimages/images/largesize/PIA16153_hires.jpg\n"
    }
   ],
   "source": [
    "# Use the base URL to create an absolute URL\n",
    "img_url = f'https://www.jpl.nasa.gov{img_url_rel}'\n",
    "print (f'{img_url},   {img_url_rel}')"
   ]
  },
  {
   "cell_type": "code",
   "execution_count": 17,
   "metadata": {},
   "outputs": [
    {
     "output_type": "execute_result",
     "data": {
      "text/plain": "'<table border=\"1\" class=\"dataframe\">\\n  <thead>\\n    <tr style=\"text-align: right;\">\\n      <th></th>\\n      <th>value</th>\\n    </tr>\\n    <tr>\\n      <th>description</th>\\n      <th></th>\\n    </tr>\\n  </thead>\\n  <tbody>\\n    <tr>\\n      <th>Equatorial Diameter:</th>\\n      <td>6,792 km</td>\\n    </tr>\\n    <tr>\\n      <th>Polar Diameter:</th>\\n      <td>6,752 km</td>\\n    </tr>\\n    <tr>\\n      <th>Mass:</th>\\n      <td>6.39 × 10^23 kg (0.11 Earths)</td>\\n    </tr>\\n    <tr>\\n      <th>Moons:</th>\\n      <td>2 (Phobos &amp; Deimos)</td>\\n    </tr>\\n    <tr>\\n      <th>Orbit Distance:</th>\\n      <td>227,943,824 km (1.38 AU)</td>\\n    </tr>\\n    <tr>\\n      <th>Orbit Period:</th>\\n      <td>687 days (1.9 years)</td>\\n    </tr>\\n    <tr>\\n      <th>Surface Temperature:</th>\\n      <td>-87 to -5 °C</td>\\n    </tr>\\n    <tr>\\n      <th>First Record:</th>\\n      <td>2nd millennium BC</td>\\n    </tr>\\n    <tr>\\n      <th>Recorded By:</th>\\n      <td>Egyptian astronomers</td>\\n    </tr>\\n  </tbody>\\n</table>'"
     },
     "metadata": {},
     "execution_count": 17
    }
   ],
   "source": [
    "# Create a new DataFrame from the HTML table - a tidy, Pandas-friendly representation of the HTML table we were just viewing on the website\n",
    "# - The Pandas function read_html() specifically searches for and returns a list of tables found in the HTML\n",
    "# index 0 - pull only the first table (or the first item in the list)\n",
    "# Turn the table into a DataFrame\n",
    "# Assign columns to the new DataFrame for additional clarity\n",
    "# Turn the Description column into the DataFrame’s index. inplace=True - updated index remains in place (does NOT reassign the DataFrame to a new variable)\n",
    "\n",
    "df = pd.read_html('http://space-facts.com/mars/')[0]\n",
    "df.columns=['description', 'value']\n",
    "df.set_index('description', inplace=True)\n",
    "df.to_html()"
   ]
  },
  {
   "cell_type": "markdown",
   "metadata": {},
   "source": [
    "### Hemisphere images"
   ]
  },
  {
   "cell_type": "code",
   "execution_count": 27,
   "metadata": {},
   "outputs": [],
   "source": [
    "# Visit URL\n",
    "url = 'https://astrogeology.usgs.gov/search/results?q=hemisphere+enhanced&k1=target&v1=Mars'\n",
    "browser.visit(url)"
   ]
  },
  {
   "cell_type": "code",
   "execution_count": 28,
   "metadata": {},
   "outputs": [],
   "source": [
    "# Parse the html with soup\n",
    "html = browser.html\n",
    "results_soup = soup(html, 'html.parser')\n",
    "# Find the 'a' tags for the result items\n",
    "results_items = results_soup.find_all('a', class_=\"itemLink\")"
   ]
  },
  {
   "cell_type": "code",
   "execution_count": 29,
   "metadata": {
    "tags": []
   },
   "outputs": [
    {
     "output_type": "stream",
     "name": "stdout",
     "text": "/search/map/Mars/Viking/cerberus_enhanced\n/search/map/Mars/Viking/cerberus_enhanced\n/search/map/Mars/Viking/schiaparelli_enhanced\n/search/map/Mars/Viking/schiaparelli_enhanced\n/search/map/Mars/Viking/syrtis_major_enhanced\n/search/map/Mars/Viking/syrtis_major_enhanced\n/search/map/Mars/Viking/valles_marineris_enhanced\n/search/map/Mars/Viking/valles_marineris_enhanced\n"
    },
    {
     "output_type": "execute_result",
     "data": {
      "text/plain": "['/search/map/Mars/Viking/cerberus_enhanced',\n '/search/map/Mars/Viking/schiaparelli_enhanced',\n '/search/map/Mars/Viking/syrtis_major_enhanced',\n '/search/map/Mars/Viking/valles_marineris_enhanced']"
     },
     "metadata": {},
     "execution_count": 29
    }
   ],
   "source": [
    "# Get the hrefs of each result link\n",
    "results_links = []\n",
    "for item in results_items:\n",
    "    print (item.get('href'))\n",
    "    results_links.append(item.get('href'))\n",
    "\n",
    "# Remove duplicate hrefs\n",
    "results_links = list(dict.fromkeys(results_links))\n",
    "results_links"
   ]
  },
  {
   "cell_type": "code",
   "execution_count": 30,
   "metadata": {
    "tags": []
   },
   "outputs": [
    {
     "output_type": "execute_result",
     "data": {
      "text/plain": "['/cache/images/39d3266553462198bd2fbc4d18fbed17_cerberus_enhanced.tif_thumb.png',\n '/cache/images/08eac6e22c07fb1fe72223a79252de20_schiaparelli_enhanced.tif_thumb.png',\n '/cache/images/55a0a1e2796313fdeafb17c35925e8ac_syrtis_major_enhanced.tif_thumb.png',\n '/cache/images/4e59980c1c57f89c680c0e1ccabbeff1_valles_marineris_enhanced.tif_thumb.png']"
     },
     "metadata": {},
     "execution_count": 30
    }
   ],
   "source": [
    "# Find the thumnails sources\n",
    "thumbs_items = results_soup.find_all('img', class_=\"thumb\")\n",
    "thumbs_links = []\n",
    "for thumb in thumbs_items:\n",
    "    #print ( thumb.get('src') )\n",
    "    thumbs_links.append( thumb.get('src') )\n",
    "thumbs_links"
   ]
  },
  {
   "cell_type": "code",
   "execution_count": 31,
   "metadata": {
    "tags": []
   },
   "outputs": [
    {
     "output_type": "stream",
     "name": "stdout",
     "text": "Visiting .... https://astrogeology.usgs.gov/search/map/Mars/Viking/cerberus_enhanced\nVisiting .... https://astrogeology.usgs.gov/search/map/Mars/Viking/schiaparelli_enhanced\nVisiting .... https://astrogeology.usgs.gov/search/map/Mars/Viking/syrtis_major_enhanced\nVisiting .... https://astrogeology.usgs.gov/search/map/Mars/Viking/valles_marineris_enhanced\n[{'title': 'Cerberus Hemisphere Enhanced', 'img_url': 'https://astropedia.astrogeology.usgs.gov/download/Mars/Viking/cerberus_enhanced.tif/full.jpg', 'thumb_url': '/cache/images/39d3266553462198bd2fbc4d18fbed17_cerberus_enhanced.tif_thumb.png'}, {'title': 'Schiaparelli Hemisphere Enhanced', 'img_url': 'https://astropedia.astrogeology.usgs.gov/download/Mars/Viking/schiaparelli_enhanced.tif/full.jpg', 'thumb_url': '/cache/images/08eac6e22c07fb1fe72223a79252de20_schiaparelli_enhanced.tif_thumb.png'}, {'title': 'Syrtis Major Hemisphere Enhanced', 'img_url': 'https://astropedia.astrogeology.usgs.gov/download/Mars/Viking/syrtis_major_enhanced.tif/full.jpg', 'thumb_url': '/cache/images/55a0a1e2796313fdeafb17c35925e8ac_syrtis_major_enhanced.tif_thumb.png'}, {'title': 'Valles Marineris Hemisphere Enhanced', 'img_url': 'https://astropedia.astrogeology.usgs.gov/download/Mars/Viking/valles_marineris_enhanced.tif/full.jpg', 'thumb_url': '/cache/images/4e59980c1c57f89c680c0e1ccabbeff1_valles_marineris_enhanced.tif_thumb.png'}]\n"
    }
   ],
   "source": [
    "# Visit the links\n",
    "# EXAMPLE - https://astrogeology.usgs.gov/search/map/Mars/Viking/cerberus_enhanced\n",
    "# The article page hrefs will be relative, we need the base URL\n",
    "base_url = 'https://astrogeology.usgs.gov'\n",
    "\n",
    "# Initialize list to hold the links & related titles\n",
    "full_res_list = []\n",
    "\n",
    "for idx, link in enumerate(results_links):\n",
    "    print ( f'Visiting .... {base_url}{link}' )\n",
    "    browser.visit( f'{base_url}{link}' )\n",
    "    # Parse the html with soup\n",
    "    html = browser.html\n",
    "    article_soup = soup(html, 'html.parser')\n",
    "\n",
    "    #print ( article_soup.find('ul').find_all('a')[1].get('href') )\n",
    "    #print ( article_soup.find('h2').text )\n",
    "    # Create a dictionary for each title & url, then add to the list\n",
    "    # Get the first 'a' tag, the image with text SAMPLE, it is sufficiently large for this purpose\n",
    "    # The other image is FULL SIZE and multiple megabytes in size, unnecessarily large for this purpose\n",
    "    full_res_list.append( \n",
    "        { \n",
    "            'title':article_soup.find('h2').text,\n",
    "            #'img_url':article_soup.find('ul').find_all('a')[0].get('href')\n",
    "            'img_url':article_soup.find('ul').find('a').get('href'),\n",
    "            'thumb_url':thumbs_links[idx]\n",
    "        }\n",
    "    )   \n",
    "    \n",
    "print ( full_res_list )"
   ]
  },
  {
   "cell_type": "code",
   "execution_count": 22,
   "metadata": {},
   "outputs": [],
   "source": [
    "# End the browser session\n",
    "browser.quit()"
   ]
  },
  {
   "cell_type": "code",
   "execution_count": 1,
   "metadata": {
    "tags": []
   },
   "outputs": [
    {
     "output_type": "stream",
     "name": "stdout",
     "text": "/search/map/Mars/Viking/cerberus_enhanced\n/search/map/Mars/Viking/cerberus_enhanced\n/search/map/Mars/Viking/schiaparelli_enhanced\n/search/map/Mars/Viking/schiaparelli_enhanced\n/search/map/Mars/Viking/syrtis_major_enhanced\n/search/map/Mars/Viking/syrtis_major_enhanced\n/search/map/Mars/Viking/valles_marineris_enhanced\n/search/map/Mars/Viking/valles_marineris_enhanced\nVisiting .... https://astrogeology.usgs.gov/search/map/Mars/Viking/cerberus_enhanced\nVisiting .... https://astrogeology.usgs.gov/search/map/Mars/Viking/schiaparelli_enhanced\nVisiting .... https://astrogeology.usgs.gov/search/map/Mars/Viking/syrtis_major_enhanced\nVisiting .... https://astrogeology.usgs.gov/search/map/Mars/Viking/valles_marineris_enhanced\n[{'title': 'Cerberus Hemisphere Enhanced', 'img_url': 'https://astropedia.astrogeology.usgs.gov/download/Mars/Viking/cerberus_enhanced.tif'}, {'title': 'Schiaparelli Hemisphere Enhanced', 'img_url': 'https://astropedia.astrogeology.usgs.gov/download/Mars/Viking/schiaparelli_enhanced.tif'}, {'title': 'Syrtis Major Hemisphere Enhanced', 'img_url': 'https://astropedia.astrogeology.usgs.gov/download/Mars/Viking/syrtis_major_enhanced.tif'}, {'title': 'Valles Marineris Hemisphere Enhanced', 'img_url': 'https://astropedia.astrogeology.usgs.gov/download/Mars/Viking/valles_marineris_enhanced.tif'}]\n"
    },
    {
     "output_type": "execute_result",
     "data": {
      "text/plain": "{'n': 1, 'nModified': 1, 'ok': 1.0, 'updatedExisting': True}"
     },
     "metadata": {},
     "execution_count": 1
    }
   ],
   "source": [
    "# Use PyMongo to interact with our Mongo database\n",
    "from flask import Flask, render_template\n",
    "from flask_pymongo import PyMongo\n",
    "import scraping\n",
    "# Connect to Mongo using PyMongo\n",
    "app = Flask(__name__)\n",
    "# Use flask_pymongo to set up mongo connection\n",
    "app.config[\"MONGO_URI\"] = \"mongodb://localhost:27017/mars_app\"\n",
    "mongo = PyMongo(app)\n",
    "mars = mongo.db.mars.find_one()\n",
    "mars = mongo.db.mars\n",
    "mars_data = scraping.scrape_all()\n",
    "print ( mars_data )\n",
    "mars.update({}, mars_data, upsert=True)\n"
   ]
  },
  {
   "cell_type": "code",
   "execution_count": null,
   "metadata": {},
   "outputs": [],
   "source": []
  }
 ],
 "metadata": {
  "kernelspec": {
   "display_name": "PythonData",
   "language": "python",
   "name": "pythondata"
  },
  "language_info": {
   "codemirror_mode": {
    "name": "ipython",
    "version": 3
   },
   "file_extension": ".py",
   "mimetype": "text/x-python",
   "name": "python",
   "nbconvert_exporter": "python",
   "pygments_lexer": "ipython3",
   "version": "3.7.6"
  }
 },
 "nbformat": 4,
 "nbformat_minor": 4
}